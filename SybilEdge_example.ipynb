{
 "cells": [
  {
   "cell_type": "code",
   "execution_count": 1,
   "metadata": {},
   "outputs": [],
   "source": [
    "from dataframe2graph import data2graph, add_node_attrs\n",
    "from add_acpt_reqs import add_accept_info, add_request_info\n",
    "from sybil_prob import cal_sybil_prob\n",
    "import pandas as pd\n",
    "import networkx as nx\n",
    "import matplotlib.pyplot as plt\n",
    "import numpy as np"
   ]
  },
  {
   "cell_type": "markdown",
   "metadata": {},
   "source": [
    "## Input data\n",
    "---\n",
    "\n",
    "Must have \n",
    "\n",
    "| data                    | column                           |\n",
    "| :---------------------- | :------------------------------: |\n",
    "| edge info (dataframe)   | 'source', 'target', 'acceptance' |\n",
    "| node info (dataframe)   | 'node', 'label'                  |\n",
    "| confidence prior (dict) | {node: {$\\pi, \\sigma, \\phi$}}    |\n",
    "\n",
    "where $\\pi, \\sigma, \\phi$ are prior parameters to control the assumptions of each node.\n",
    "\n",
    "---\n",
    "\n",
    "### Use networkx to build graph"
   ]
  },
  {
   "cell_type": "code",
   "execution_count": 2,
   "metadata": {},
   "outputs": [],
   "source": [
    "edge_info = pd.DataFrame({'source': ['B', 'D', 'A', 'C', 'D', 'E', 'F'], \n",
    "                         'target': ['A', 'A', 'B', 'B', 'B', 'B', 'C'],\n",
    "                         'accept': [1, 0, 1, 1, 1, 0, 0]})\n",
    "\n",
    "node_info = pd.DataFrame({'node': ['A', 'B', 'C', 'D', 'E', 'F'],\n",
    "                          'label': ['real', 'fake', 'None', 'real', 'fake', 'real']})\n",
    "\n",
    "confidence_prior = {'A': {'pi': 0.5, 'sigma': 1, 'phi': 1}, \n",
    "                    'B': {'pi': 0.5, 'sigma': 1, 'phi': 1}, \n",
    "                    'C': {'pi': 0.5, 'sigma': 1, 'phi': 1}, \n",
    "                    'D': {'pi': 0.5, 'sigma': 1, 'phi': 1},\n",
    "                    'E': {'pi': 0.5, 'sigma': 1, 'phi': 1},\n",
    "                    'F': {'pi': 0.5, 'sigma': 1, 'phi': 1},}\n",
    "\n",
    "graph = data2graph(edge_info)\n",
    "graph = add_node_attrs(graph, node_info)"
   ]
  },
  {
   "cell_type": "markdown",
   "metadata": {},
   "source": [
    "### Calculate accept info and request info for each node"
   ]
  },
  {
   "cell_type": "code",
   "execution_count": 3,
   "metadata": {},
   "outputs": [],
   "source": [
    "graph = add_accept_info(graph, confidence_prior)\n",
    "graph = add_request_info(graph, confidence_prior)"
   ]
  },
  {
   "cell_type": "code",
   "execution_count": 4,
   "metadata": {},
   "outputs": [],
   "source": [
    "sybil_dict = cal_sybil_prob(graph, confidence_prior)"
   ]
  },
  {
   "cell_type": "code",
   "execution_count": 5,
   "metadata": {},
   "outputs": [
    {
     "data": {
      "image/png": "[encoded data removed]",
      "text/plain": [
       "<Figure size 720x432 with 1 Axes>"
      ]
     },
     "metadata": {},
     "output_type": "display_data"
    }
   ],
   "source": [
    "pos = nx.spring_layout(graph)\n",
    "\n",
    "node_color = []\n",
    "for node, label in graph.nodes.data('label'):\n",
    "    if label == 'fake':             # sybil account\n",
    "        node_color.append('red')\n",
    "    elif label == 'None':           # new account\n",
    "        node_color.append('orange')\n",
    "    else:                           # real account\n",
    "        node_color.append('blue')\n",
    "\n",
    "plt.figure(figsize=(10, 6))\n",
    "nx.draw_networkx(\n",
    "    graph, with_labels=True, node_size=1000, node_color=node_color, pos=pos\n",
    ")"
   ]
  },
  {
   "cell_type": "code",
   "execution_count": 6,
   "metadata": {},
   "outputs": [
    {
     "data": {
      "text/plain": [
       "{'B': 0.9302325581395349,\n",
       " 'A': 0.22727272727272727,\n",
       " 'D': 0.15784361340456532,\n",
       " 'C': 0.22727272727272727,\n",
       " 'E': 0.625,\n",
       " 'F': 0.5}"
      ]
     },
     "execution_count": 6,
     "metadata": {},
     "output_type": "execute_result"
    }
   ],
   "source": [
    "# sybil rate\n",
    "sybil_dict"
   ]
  }
 ],
 "metadata": {
  "kernelspec": {
   "display_name": "Python 3.7.7 64-bit (conda)",
   "language": "python",
   "name": "python37764bitcondabbb8dd0e67ce4e20adc50333ee77f00f"
  },
  "language_info": {
   "codemirror_mode": {
    "name": "ipython",
    "version": 3
   },
   "file_extension": ".py",
   "mimetype": "text/x-python",
   "name": "python",
   "nbconvert_exporter": "python",
   "pygments_lexer": "ipython3",
   "version": "3.7.7"
  }
 },
 "nbformat": 4,
 "nbformat_minor": 4
}
